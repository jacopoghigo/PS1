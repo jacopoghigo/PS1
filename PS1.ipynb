{
 "cells": [
  {
   "cell_type": "code",
   "execution_count": 1,
   "id": "f709f1ca",
   "metadata": {},
   "outputs": [],
   "source": [
    "import requests\n",
    "from bs4 import BeautifulSoup\n",
    "import pandas as pd\n",
    "import html\n",
    "\n",
    "url = \"https://fabiosacerdote.github.io/ScrapingData/top_paid_apps_to_share.html\"\n",
    "response = requests.get(url)\n",
    "response.raise_for_status()"
   ]
  },
  {
   "cell_type": "code",
   "execution_count": 2,
   "id": "fcb3ca2d",
   "metadata": {},
   "outputs": [],
   "source": [
    "page_content = html.unescape(response.text)  # handles special HTML entities\n",
    "soup = BeautifulSoup(page_content, \"html.parser\")"
   ]
  },
  {
   "cell_type": "code",
   "execution_count": 3,
   "id": "7ea94c6c",
   "metadata": {},
   "outputs": [
    {
     "name": "stdout",
     "output_type": "stream",
     "text": [
      "       App_ID Rank                          Name\n",
      "0   479516143    1  Minecraft: Play with Friends\n",
      "1  1118115766    2                   Bloons TD 6\n",
      "2   342548956    3   TurboScan™ Pro: PDF scanner\n",
      "3   623592465    4                     Heads Up!\n",
      "4   625334537    5                 Geometry Dash\n"
     ]
    }
   ],
   "source": [
    "apps = []\n",
    "for row in soup.find_all(\"tr\")[1:]:  # skip header\n",
    "    cells = row.find_all(\"td\")\n",
    "    if len(cells) >= 3:\n",
    "        app_id = cells[0].get_text(strip=True)   # first column\n",
    "        rank   = cells[1].get_text(strip=True)   # second column\n",
    "        name   = cells[2].get_text(strip=True)   # third column\n",
    "        apps.append([app_id, rank, name])\n",
    "\n",
    "df = pd.DataFrame(apps, columns=[\"App_ID\", \"Rank\", \"Name\"])\n",
    "print(df.head())\n",
    "\n",
    "# Save the DataFrame to a CSV file\n",
    "df.to_csv(\"apps_data.csv\", index=False)"
   ]
  },
  {
   "cell_type": "code",
   "execution_count": 1,
   "id": "52c934f2",
   "metadata": {},
   "outputs": [],
   "source": [
    "import sqlite3"
   ]
  }
 ],
 "metadata": {
  "kernelspec": {
   "display_name": "Python 3",
   "language": "python",
   "name": "python3"
  },
  "language_info": {
   "codemirror_mode": {
    "name": "ipython",
    "version": 3
   },
   "file_extension": ".py",
   "mimetype": "text/x-python",
   "name": "python",
   "nbconvert_exporter": "python",
   "pygments_lexer": "ipython3",
   "version": "3.13.3"
  }
 },
 "nbformat": 4,
 "nbformat_minor": 5
}
